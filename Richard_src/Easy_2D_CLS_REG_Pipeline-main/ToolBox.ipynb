{
 "cells": [
  {
   "cell_type": "code",
   "execution_count": 1,
   "id": "a9c87b64",
   "metadata": {},
   "outputs": [],
   "source": [
    "import glob\n",
    "import os\n",
    "import numpy as np\n",
    "import matplotlib.pyplot as plt\n",
    "import pandas as pd\n",
    "from sklearn.model_selection import KFold,StratifiedKFold"
   ]
  },
  {
   "cell_type": "markdown",
   "id": "dea36873",
   "metadata": {},
   "source": [
    "# Make Dataset Fromat"
   ]
  },
  {
   "cell_type": "code",
   "execution_count": 3,
   "id": "1c6209be",
   "metadata": {},
   "outputs": [
    {
     "data": {
      "text/html": [
       "<div>\n",
       "<style scoped>\n",
       "    .dataframe tbody tr th:only-of-type {\n",
       "        vertical-align: middle;\n",
       "    }\n",
       "\n",
       "    .dataframe tbody tr th {\n",
       "        vertical-align: top;\n",
       "    }\n",
       "\n",
       "    .dataframe thead th {\n",
       "        text-align: right;\n",
       "    }\n",
       "</style>\n",
       "<table border=\"1\" class=\"dataframe\">\n",
       "  <thead>\n",
       "    <tr style=\"text-align: right;\">\n",
       "      <th></th>\n",
       "      <th>image_path</th>\n",
       "      <th>label</th>\n",
       "      <th>fold</th>\n",
       "    </tr>\n",
       "  </thead>\n",
       "  <tbody>\n",
       "    <tr>\n",
       "      <th>0</th>\n",
       "      <td>dataset/train\\buildings\\0.jpg</td>\n",
       "      <td>0</td>\n",
       "      <td>NaN</td>\n",
       "    </tr>\n",
       "    <tr>\n",
       "      <th>1</th>\n",
       "      <td>dataset/train\\buildings\\10006.jpg</td>\n",
       "      <td>0</td>\n",
       "      <td>NaN</td>\n",
       "    </tr>\n",
       "    <tr>\n",
       "      <th>2</th>\n",
       "      <td>dataset/train\\buildings\\1001.jpg</td>\n",
       "      <td>0</td>\n",
       "      <td>NaN</td>\n",
       "    </tr>\n",
       "    <tr>\n",
       "      <th>3</th>\n",
       "      <td>dataset/train\\buildings\\10014.jpg</td>\n",
       "      <td>0</td>\n",
       "      <td>NaN</td>\n",
       "    </tr>\n",
       "    <tr>\n",
       "      <th>4</th>\n",
       "      <td>dataset/train\\buildings\\10018.jpg</td>\n",
       "      <td>0</td>\n",
       "      <td>NaN</td>\n",
       "    </tr>\n",
       "    <tr>\n",
       "      <th>...</th>\n",
       "      <td>...</td>\n",
       "      <td>...</td>\n",
       "      <td>...</td>\n",
       "    </tr>\n",
       "    <tr>\n",
       "      <th>14029</th>\n",
       "      <td>dataset/train\\street\\9961.jpg</td>\n",
       "      <td>5</td>\n",
       "      <td>NaN</td>\n",
       "    </tr>\n",
       "    <tr>\n",
       "      <th>14030</th>\n",
       "      <td>dataset/train\\street\\9967.jpg</td>\n",
       "      <td>5</td>\n",
       "      <td>NaN</td>\n",
       "    </tr>\n",
       "    <tr>\n",
       "      <th>14031</th>\n",
       "      <td>dataset/train\\street\\9978.jpg</td>\n",
       "      <td>5</td>\n",
       "      <td>NaN</td>\n",
       "    </tr>\n",
       "    <tr>\n",
       "      <th>14032</th>\n",
       "      <td>dataset/train\\street\\9989.jpg</td>\n",
       "      <td>5</td>\n",
       "      <td>NaN</td>\n",
       "    </tr>\n",
       "    <tr>\n",
       "      <th>14033</th>\n",
       "      <td>dataset/train\\street\\999.jpg</td>\n",
       "      <td>5</td>\n",
       "      <td>NaN</td>\n",
       "    </tr>\n",
       "  </tbody>\n",
       "</table>\n",
       "<p>14034 rows × 3 columns</p>\n",
       "</div>"
      ],
      "text/plain": [
       "                              image_path  label fold\n",
       "0          dataset/train\\buildings\\0.jpg      0  NaN\n",
       "1      dataset/train\\buildings\\10006.jpg      0  NaN\n",
       "2       dataset/train\\buildings\\1001.jpg      0  NaN\n",
       "3      dataset/train\\buildings\\10014.jpg      0  NaN\n",
       "4      dataset/train\\buildings\\10018.jpg      0  NaN\n",
       "...                                  ...    ...  ...\n",
       "14029      dataset/train\\street\\9961.jpg      5  NaN\n",
       "14030      dataset/train\\street\\9967.jpg      5  NaN\n",
       "14031      dataset/train\\street\\9978.jpg      5  NaN\n",
       "14032      dataset/train\\street\\9989.jpg      5  NaN\n",
       "14033       dataset/train\\street\\999.jpg      5  NaN\n",
       "\n",
       "[14034 rows x 3 columns]"
      ]
     },
     "execution_count": 3,
     "metadata": {},
     "output_type": "execute_result"
    }
   ],
   "source": [
    "classes= {\n",
    "    'buildings': 0,\n",
    "    'forest':    1,\n",
    "    'glacier':   2,\n",
    "    'mountain':  3,\n",
    "    'sea':       4,\n",
    "    'street':    5,\n",
    "}\n",
    "\n",
    "all_image_path= glob.glob('dataset/train/**/*.jpg')\n",
    "df= pd.DataFrame(columns=('image_path', 'label', 'fold'))\n",
    "df['image_path']= all_image_path\n",
    "df['label']= [ classes[path.split('\\\\')[-2]] for path in all_image_path ]\n",
    "df"
   ]
  },
  {
   "cell_type": "code",
   "execution_count": 4,
   "id": "e9a5a3c1",
   "metadata": {},
   "outputs": [
    {
     "data": {
      "text/plain": [
       "3    2512\n",
       "2    2404\n",
       "5    2382\n",
       "4    2274\n",
       "1    2271\n",
       "0    2191\n",
       "Name: label, dtype: int64"
      ]
     },
     "execution_count": 4,
     "metadata": {},
     "output_type": "execute_result"
    }
   ],
   "source": [
    "df['label'].value_counts()"
   ]
  },
  {
   "cell_type": "code",
   "execution_count": 5,
   "id": "4b9af27b",
   "metadata": {},
   "outputs": [],
   "source": [
    "kf= StratifiedKFold(n_splits=5, random_state=123, shuffle=True)\n",
    "for i, (train_index, test_index) in enumerate(kf.split(df['image_path'], df['label'])):\n",
    "    for indx in test_index:\n",
    "        df.loc[indx, 'fold']= i"
   ]
  },
  {
   "cell_type": "code",
   "execution_count": 6,
   "id": "f5205909",
   "metadata": {},
   "outputs": [],
   "source": [
    "df.to_csv('./dataset/train.csv', index= False)"
   ]
  }
 ],
 "metadata": {
  "kernelspec": {
   "display_name": "Python 3 (ipykernel)",
   "language": "python",
   "name": "python3"
  },
  "language_info": {
   "codemirror_mode": {
    "name": "ipython",
    "version": 3
   },
   "file_extension": ".py",
   "mimetype": "text/x-python",
   "name": "python",
   "nbconvert_exporter": "python",
   "pygments_lexer": "ipython3",
   "version": "3.7.15"
  }
 },
 "nbformat": 4,
 "nbformat_minor": 5
}
