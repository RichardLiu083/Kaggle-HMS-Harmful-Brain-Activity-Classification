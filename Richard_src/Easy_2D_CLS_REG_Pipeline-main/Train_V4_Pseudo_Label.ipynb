{
 "cells": [
  {
   "cell_type": "code",
   "execution_count": 1,
   "id": "0ab1420b",
   "metadata": {},
   "outputs": [],
   "source": [
    "import os\n",
    "import gc\n",
    "import cv2\n",
    "import time\n",
    "import random\n",
    "from monai.inferers import sliding_window_inference\n",
    "\n",
    "# For data manipulation\n",
    "import numpy as np\n",
    "import pandas as pd\n",
    "\n",
    "# Pytorch Imports\n",
    "import torch\n",
    "import torch.nn as nn\n",
    "import torch.optim as optim\n",
    "import torch.nn.functional as F\n",
    "from torch.optim import lr_scheduler\n",
    "from torch.utils.data import Dataset, DataLoader\n",
    "from torch.cuda import amp\n",
    "from pytorch_toolbelt import losses as L\n",
    "\n",
    "# Utils\n",
    "from tqdm.auto import tqdm\n",
    "\n",
    "# For Image Models\n",
    "import timm\n",
    "from timm.utils.model_ema import ModelEmaV3\n",
    "\n",
    "# Albumentations for augmentations\n",
    "import albumentations as A\n",
    "from albumentations.pytorch import ToTensorV2\n",
    "\n",
    "import warnings\n",
    "warnings.filterwarnings(\"ignore\")\n",
    "\n",
    "## using gpu:1\n",
    "os.environ['CUDA_VISIBLE_DEVICES'] = '0'\n",
    "\n",
    "def seed_everything(seed=123):\n",
    "    random.seed(seed)\n",
    "    os.environ['PYTHONHASHSEED'] = str(seed)\n",
    "    np.random.seed(seed)\n",
    "    torch.manual_seed(seed)\n",
    "    torch.cuda.manual_seed(seed)\n",
    "    torch.cuda.manual_seed_all(seed)\n",
    "    torch.backends.cudnn.deterministic = True\n",
    "    torch.backends.cudnn.benchmark = False\n",
    "seed_everything()"
   ]
  },
  {
   "cell_type": "code",
   "execution_count": 2,
   "id": "85ceec4e",
   "metadata": {
    "scrolled": true
   },
   "outputs": [],
   "source": [
    "class WidthAttention(nn.Module):\n",
    "    def __init__(self, in_ch, width: int):\n",
    "        super().__init__()\n",
    "        self.attention = nn.Sequential(\n",
    "            nn.Conv2d(in_ch, in_ch, kernel_size=(1, 1)),\n",
    "            nn.BatchNorm2d(in_ch),\n",
    "            nn.SiLU(inplace=True),\n",
    "            nn.AdaptiveAvgPool2d((1, 1)),\n",
    "            nn.Flatten(),\n",
    "            nn.Linear(in_ch, width),\n",
    "            nn.Sigmoid()\n",
    "        )\n",
    "\n",
    "    def forward(self, x):\n",
    "        attention = self.attention(x)\n",
    "        attention = attention.unsqueeze(1).unsqueeze(1)\n",
    "        return x * attention\n",
    "\n",
    "    \n",
    "    \n",
    "class Slide_Window_Model(nn.Module):\n",
    "    def __init__(self, model_name, cls):\n",
    "        super().__init__()\n",
    "        self.cls= cls\n",
    "        self.model = timm.create_model(model_name, \n",
    "                                       pretrained=True, \n",
    "                                       num_classes=cls,\n",
    "                                       drop_rate= CFG['drop_out'], \n",
    "                                       drop_path_rate= CFG['drop_path'])\n",
    "        \n",
    "        self.gp= self.model.global_pool\n",
    "        self.out= self.model.classifier\n",
    "        self.model.global_pool= nn.Identity()\n",
    "        self.model.classifier= nn.Identity()\n",
    "        self.att= nn.Sequential(\n",
    "                        WidthAttention(self.out.in_features, 29),\n",
    "                    )\n",
    "        \n",
    "    def forward(self, image):\n",
    "        x = self.model(image)  ## (1,1280,13,21)\n",
    "        x = self.att(x)  ## (1,1280,13,21)\n",
    "        x = self.gp(x)   ## (1,1280)\n",
    "        x = self.out(x)  ## (1,6)\n",
    "        return x if self.training else x.view(-1, self.cls, 1, 1)\n",
    "    \n",
    "    \n",
    "# attention= Slide_Window_Model('tf_efficientnet_b0_ns', 6)\n",
    "# x= torch.rand(1,3,400,656)\n",
    "# attention(x).shape"
   ]
  },
  {
   "cell_type": "code",
   "execution_count": 3,
   "id": "8881b53e",
   "metadata": {},
   "outputs": [],
   "source": [
    "params = {\n",
    "    \"num_masks_x\": (1, 10),\n",
    "#     \"num_masks_y\": (1, 5),    \n",
    "#     \"mask_y_length\": (5, 10),\n",
    "    \"mask_x_length\": (5, 10),\n",
    "    \"fill_value\": 0,\n",
    "}\n",
    "\n",
    "def get_train_transform(img_size):\n",
    "    return A.Compose([\n",
    "        A.PadIfNeeded(min_height=400, min_width=CFG['img_crop'], border_mode=0, p=1),\n",
    "        A.RandomCrop(width=CFG['img_crop'], height=400, p=1),\n",
    "        \n",
    "        A.RandomBrightnessContrast(brightness_limit=0.6, contrast_limit=0., p=0.5),\n",
    "        \n",
    "        A.HorizontalFlip(p=0.5),\n",
    "        A.VerticalFlip(p=0.5),\n",
    "        A.XYMasking(**params, p=0.5),\n",
    "        A.ShiftScaleRotate(shift_limit=0.15, scale_limit=0.05, rotate_limit= 15,\n",
    "                                        interpolation=cv2.INTER_LINEAR, border_mode=0, p=0.7),\n",
    "        ToTensorV2(p=1.0),\n",
    "    ])\n",
    "\n",
    "\n",
    "def get_test_transform(img_size):\n",
    "    return A.Compose([\n",
    "        A.PadIfNeeded(min_height=400, min_width=CFG['img_crop'], border_mode=0, p=1),\n",
    "        ToTensorV2(p=1.0),\n",
    "    ])"
   ]
  },
  {
   "cell_type": "code",
   "execution_count": 4,
   "id": "7a153977",
   "metadata": {},
   "outputs": [],
   "source": [
    "from preprocessing import spectrogram_from_eeg\n",
    "\n",
    "class Customize_Dataset(Dataset):\n",
    "    def __init__(self, df, transforms=None, training=False):\n",
    "        self.df = df\n",
    "        self.transforms = transforms\n",
    "        self.training= training\n",
    "    \n",
    "    def mixup_aug(self, img_1, mask_1, \n",
    "                        img_2, mask_2):\n",
    "        \"\"\"\n",
    "        img: numpy array of shape (height, width,channel)\n",
    "        mask: numpy array of shape (height, width,channel)\n",
    "        \"\"\"\n",
    "        ## mixup\n",
    "        weight= np.random.beta(a=0.5, b=0.5)\n",
    "        img= img_1*weight + img_2*(1-weight)\n",
    "        mask= mask_1*weight + mask_2*(1-weight)\n",
    "        return img, mask\n",
    "    \n",
    "    def read_data(self, data):\n",
    "        img= np.load(data['npy_path'])\n",
    "        label= np.array(eval(data['soft_label']))\n",
    "        pl_label= np.array(eval(data[f\"PL_prob\"]))\n",
    "        if data['voter']<=7 and CFG['finetune'] and self.training:\n",
    "            label= label*0. + pl_label*1.0\n",
    "        return img, label\n",
    "    \n",
    "    def __getitem__(self, index):\n",
    "        data = self.df.loc[index]\n",
    "        img, label= self.read_data(data)\n",
    "        \n",
    "        # use mixup\n",
    "        if self.training and np.random.rand() >= (1-CFG['mixup']) and img.shape[1]<=656:\n",
    "            img_1= img\n",
    "            label_1= np.array(label)\n",
    "            while True:\n",
    "                indx= np.random.randint(len(self.df))\n",
    "                data= self.df.loc[indx]\n",
    "                img_2, label_2= self.read_data(data)\n",
    "                if img_2.shape[1] > img.shape[1]: \n",
    "                    img_2= img_2[:, :img.shape[1]]\n",
    "                    break\n",
    "            img, label= self.mixup_aug(img_1, label_1, \n",
    "                                       img_2, label_2)\n",
    "        \n",
    "        if self.transforms:\n",
    "            img = self.transforms(image=img)[\"image\"]\n",
    "            \n",
    "        return {\n",
    "            'image': torch.tensor(img, dtype=torch.float32),\n",
    "            'label': torch.tensor(label, dtype=torch.float32),\n",
    "        }\n",
    "    \n",
    "    def __len__(self):\n",
    "        return len(self.df)"
   ]
  },
  {
   "cell_type": "code",
   "execution_count": 5,
   "id": "25e62a8a",
   "metadata": {},
   "outputs": [],
   "source": [
    "class Customize_loss(nn.Module):\n",
    "    def  __init__(self):\n",
    "        super().__init__()\n",
    "        self.CrossEntropy= nn.CrossEntropyLoss(weight= None, label_smoothing=0.)\n",
    "        self.FocalCosineLoss= L.FocalCosineLoss()\n",
    "        self.kl_loss = nn.KLDivLoss()\n",
    "        self.bce= nn.BCELoss()\n",
    "        self.mse= nn.MSELoss()\n",
    "    \n",
    "    def forward(self, y_pred, y_true):\n",
    "        loss= 1*self.kl_loss(y_pred.log_softmax(dim=-1), y_true) + 1*self.mse(y_pred.softmax(dim=-1), y_true)\n",
    "        return loss"
   ]
  },
  {
   "cell_type": "code",
   "execution_count": 6,
   "id": "f8f51ccd",
   "metadata": {},
   "outputs": [],
   "source": [
    "def train_epoch(dataloader, model, criterion, optimizer, model_ema):\n",
    "    scaler= amp.GradScaler()\n",
    "    model.train()\n",
    "\n",
    "    ep_loss= []\n",
    "    for i, data in enumerate(tqdm(dataloader)):\n",
    "\n",
    "        imgs= data['image'].to('cuda')\n",
    "        labels= data['label'].to('cuda')\n",
    "        \n",
    "        with amp.autocast():\n",
    "            preds= model(imgs)\n",
    "            loss= criterion(preds, labels)\n",
    "            ep_loss.append(loss.item())\n",
    "            loss/= CFG['gradient_accumulation']\n",
    "            scaler.scale(loss).backward()\n",
    "            \n",
    "            if (i+1) % CFG['gradient_accumulation']== 0:\n",
    "                scaler.step(optimizer)\n",
    "                scaler.update()\n",
    "                optimizer.zero_grad()\n",
    "                \n",
    "            if model_ema: model_ema.update(model)\n",
    "                \n",
    "    return np.mean(ep_loss)"
   ]
  },
  {
   "cell_type": "code",
   "execution_count": 7,
   "id": "4efbece7",
   "metadata": {},
   "outputs": [],
   "source": [
    "from metrics import *\n",
    "\n",
    "def valid_epoch(dataloader, model, criterion):\n",
    "    model.eval()\n",
    "    \n",
    "    ep_loss= []\n",
    "    all_pred= []\n",
    "    all_label= []\n",
    "    for i, data in enumerate(tqdm(dataloader)):\n",
    "\n",
    "        imgs= data['image'].to('cuda')\n",
    "        labels= data['label'].to('cuda')\n",
    "        all_label.extend(labels.cpu().numpy())\n",
    "        \n",
    "        with torch.no_grad():\n",
    "            preds= sliding_window_inference(imgs, \n",
    "                                            roi_size=(-1,CFG['img_crop']), \n",
    "                                            mode= 'gaussian',\n",
    "                                            sw_batch_size=1, \n",
    "                                            predictor=model)\n",
    "            preds= preds.view(preds.shape[0],model.cls,-1).mean(dim=-1)\n",
    "            loss= criterion(preds, labels)\n",
    "            ep_loss.append(loss.item())\n",
    "        all_pred.extend(preds.cpu().softmax(dim=-1).numpy())\n",
    "    \n",
    "    ## caculate metrics\n",
    "    soft_label= all_label.copy()\n",
    "    all_label= np.array(all_label).argmax(1)\n",
    "    all_pred= np.array(all_pred)\n",
    "    \n",
    "    acc= Accuracy(all_pred, all_label)\n",
    "    print(f'accuracy: {acc}')\n",
    "    recall= Mean_Recall(all_pred, all_label)\n",
    "    print(f'mean_recall: {recall}')\n",
    "    kl_score= kl_divergence(soft_label, all_pred)\n",
    "    print(f'kl_divergence: {kl_score}')\n",
    "    \n",
    "    score= kl_score\n",
    "    return np.mean(ep_loss), score"
   ]
  },
  {
   "cell_type": "markdown",
   "id": "eb1bde5f",
   "metadata": {},
   "source": [
    "# CFG"
   ]
  },
  {
   "cell_type": "raw",
   "id": "2a799bd7",
   "metadata": {},
   "source": [
    "[m for m in timm.list_models(pretrained=True) if 'clip' in m]"
   ]
  },
  {
   "cell_type": "code",
   "execution_count": 8,
   "id": "4d8029a2",
   "metadata": {},
   "outputs": [
    {
     "name": "stdout",
     "output_type": "stream",
     "text": [
      "finetune\n"
     ]
    }
   ],
   "source": [
    "CFG= {\n",
    "    'fold': 1,\n",
    "    'epoch': 25,\n",
    "    'model_name': 'tf_efficientnet_b0_ns',\n",
    "    \n",
    "    'img_size': None,\n",
    "    'img_crop': 912,\n",
    "    \n",
    "    'batch_size': 16,\n",
    "    'gradient_accumulation': 1,\n",
    "    'gradient_checkpoint': False,\n",
    "    'drop_out': 0.3,\n",
    "    'drop_path': 0.2,\n",
    "    'mixup': 0.3,\n",
    "    'EMA': 0.995,\n",
    "    \n",
    "    'lr': 3e-4,\n",
    "    'weight_decay': 0.,\n",
    "    \n",
    "    'num_classes': 6,\n",
    "    'load_model': False,\n",
    "    'save_model': './train_model',\n",
    "    \n",
    "    'finetune': True,\n",
    "}\n",
    "\n",
    "if CFG['finetune']:\n",
    "    print('finetune')\n",
    "    CFG['epoch']= 20\n",
    "    CFG['load_model']= f\"{CFG['save_model']}/cv{CFG['fold']}_best.pth\"\n",
    "    CFG['lr']= 3e-4"
   ]
  },
  {
   "cell_type": "markdown",
   "id": "b3aa7835",
   "metadata": {},
   "source": [
    "# Prepare Dataset"
   ]
  },
  {
   "cell_type": "code",
   "execution_count": 9,
   "id": "0010c7a6",
   "metadata": {
    "scrolled": true
   },
   "outputs": [
    {
     "name": "stdout",
     "output_type": "stream",
     "text": [
      "train dataset: 10417\n",
      "valid dataset: 721\n"
     ]
    },
    {
     "data": {
      "text/html": [
       "<div>\n",
       "<style scoped>\n",
       "    .dataframe tbody tr th:only-of-type {\n",
       "        vertical-align: middle;\n",
       "    }\n",
       "\n",
       "    .dataframe tbody tr th {\n",
       "        vertical-align: top;\n",
       "    }\n",
       "\n",
       "    .dataframe thead th {\n",
       "        text-align: right;\n",
       "    }\n",
       "</style>\n",
       "<table border=\"1\" class=\"dataframe\">\n",
       "  <thead>\n",
       "    <tr style=\"text-align: right;\">\n",
       "      <th></th>\n",
       "      <th>eeg_id</th>\n",
       "      <th>spectrogram_id</th>\n",
       "      <th>image_path</th>\n",
       "      <th>expert_consensus</th>\n",
       "      <th>patient_id</th>\n",
       "      <th>label</th>\n",
       "      <th>soft_label</th>\n",
       "      <th>fold</th>\n",
       "      <th>npy_path</th>\n",
       "      <th>time_length</th>\n",
       "      <th>voter</th>\n",
       "      <th>PL_prob_cv0</th>\n",
       "      <th>PL_prob_cv1</th>\n",
       "      <th>PL_prob_cv2</th>\n",
       "      <th>PL_prob_cv3</th>\n",
       "      <th>PL_prob_cv4</th>\n",
       "      <th>PL_prob</th>\n",
       "    </tr>\n",
       "  </thead>\n",
       "  <tbody>\n",
       "    <tr>\n",
       "      <th>0</th>\n",
       "      <td>1628180742</td>\n",
       "      <td>353733</td>\n",
       "      <td>../Data/train_eegs/1628180742.parquet</td>\n",
       "      <td>Seizure</td>\n",
       "      <td>42516</td>\n",
       "      <td>0</td>\n",
       "      <td>[1.0, 0.0, 0.0, 0.0, 0.0, 0.0]</td>\n",
       "      <td>4</td>\n",
       "      <td>../Data/train_npy/0.npy</td>\n",
       "      <td>576</td>\n",
       "      <td>3</td>\n",
       "      <td>[0.3489752411842346, 0.10252505540847778, 0.03...</td>\n",
       "      <td>[0.4545011520385742, 0.08543295413255692, 0.00...</td>\n",
       "      <td>[0.35866212844848633, 0.06348183751106262, 0.0...</td>\n",
       "      <td>[0.42922917008399963, 0.04415779933333397, 0.0...</td>\n",
       "      <td>[0.32202839851379395, 0.1123746782541275, 0.00...</td>\n",
       "      <td>[0.4263441264629364, 0.058971207588911057, 0.0...</td>\n",
       "    </tr>\n",
       "    <tr>\n",
       "      <th>1</th>\n",
       "      <td>387987538</td>\n",
       "      <td>1084844</td>\n",
       "      <td>../Data/train_eegs/387987538.parquet</td>\n",
       "      <td>LRDA</td>\n",
       "      <td>4264</td>\n",
       "      <td>3</td>\n",
       "      <td>[0.0, 0.0, 0.0, 1.0, 0.0, 0.0]</td>\n",
       "      <td>0</td>\n",
       "      <td>../Data/train_npy/3.npy</td>\n",
       "      <td>562</td>\n",
       "      <td>3</td>\n",
       "      <td>[0.039219897240400314, 0.024717289954423904, 0...</td>\n",
       "      <td>[0.03628334030508995, 0.024995330721139908, 0....</td>\n",
       "      <td>[0.021519465371966362, 0.022249963134527206, 0...</td>\n",
       "      <td>[0.028398025780916214, 0.030236368998885155, 0...</td>\n",
       "      <td>[0.07453320920467377, 0.04387536272406578, 0.0...</td>\n",
       "      <td>[0.05356224253773689, 0.041943296790122986, 0....</td>\n",
       "    </tr>\n",
       "    <tr>\n",
       "      <th>2</th>\n",
       "      <td>2175806584</td>\n",
       "      <td>1219001</td>\n",
       "      <td>../Data/train_eegs/2175806584.parquet</td>\n",
       "      <td>Seizure</td>\n",
       "      <td>23435</td>\n",
       "      <td>0</td>\n",
       "      <td>[1.0, 0.0, 0.0, 0.0, 0.0, 0.0]</td>\n",
       "      <td>3</td>\n",
       "      <td>../Data/train_npy/4.npy</td>\n",
       "      <td>666</td>\n",
       "      <td>3</td>\n",
       "      <td>[0.2235855609178543, 0.11480796337127686, 0.50...</td>\n",
       "      <td>[0.22932660579681396, 0.04908479005098343, 0.6...</td>\n",
       "      <td>[0.12347868829965591, 0.033894166350364685, 0....</td>\n",
       "      <td>[0.08356039226055145, 0.06833972036838531, 0.7...</td>\n",
       "      <td>[0.12395842373371124, 0.053466178476810455, 0....</td>\n",
       "      <td>[0.411081999540329, 0.04547161981463432, 0.428...</td>\n",
       "    </tr>\n",
       "    <tr>\n",
       "      <th>3</th>\n",
       "      <td>1202099836</td>\n",
       "      <td>1353070</td>\n",
       "      <td>../Data/train_eegs/1202099836.parquet</td>\n",
       "      <td>Other</td>\n",
       "      <td>34554</td>\n",
       "      <td>5</td>\n",
       "      <td>[0.0, 0.0, 0.35714285714285715, 0.0, 0.0, 0.64...</td>\n",
       "      <td>0</td>\n",
       "      <td>../Data/train_npy/7.npy</td>\n",
       "      <td>556</td>\n",
       "      <td>14</td>\n",
       "      <td>[0.008067328482866287, 0.029164904728531837, 0...</td>\n",
       "      <td>[0.0032608057372272015, 0.07425374537706375, 0...</td>\n",
       "      <td>[0.0032928376458585262, 0.17271824181079865, 0...</td>\n",
       "      <td>[0.002575099002569914, 0.054019488394260406, 0...</td>\n",
       "      <td>[0.00583513593301177, 0.15544316172599792, 0.3...</td>\n",
       "      <td>[0.01853444054722786, 0.08432004600763321, 0.4...</td>\n",
       "    </tr>\n",
       "    <tr>\n",
       "      <th>4</th>\n",
       "      <td>3037445252</td>\n",
       "      <td>1730458</td>\n",
       "      <td>../Data/train_eegs/3037445252.parquet</td>\n",
       "      <td>Other</td>\n",
       "      <td>10187</td>\n",
       "      <td>5</td>\n",
       "      <td>[0.0, 0.0, 0.3333333333333333, 0.0, 0.0, 0.666...</td>\n",
       "      <td>-1</td>\n",
       "      <td>../Data/train_npy/8.npy</td>\n",
       "      <td>693</td>\n",
       "      <td>3</td>\n",
       "      <td>[0.06870211660861969, 0.010298708453774452, 0....</td>\n",
       "      <td>[0.00406707264482975, 0.006945385131984949, 0....</td>\n",
       "      <td>[0.015403089113533497, 0.029696019366383553, 0...</td>\n",
       "      <td>[0.09617599099874496, 0.02372109889984131, 0.3...</td>\n",
       "      <td>[0.021986497566103935, 0.03224774822592735, 0....</td>\n",
       "      <td>[0.0807790607213974, 0.033510494977235794, 0.1...</td>\n",
       "    </tr>\n",
       "  </tbody>\n",
       "</table>\n",
       "</div>"
      ],
      "text/plain": [
       "       eeg_id  spectrogram_id                             image_path   \n",
       "0  1628180742          353733  ../Data/train_eegs/1628180742.parquet  \\\n",
       "1   387987538         1084844   ../Data/train_eegs/387987538.parquet   \n",
       "2  2175806584         1219001  ../Data/train_eegs/2175806584.parquet   \n",
       "3  1202099836         1353070  ../Data/train_eegs/1202099836.parquet   \n",
       "4  3037445252         1730458  ../Data/train_eegs/3037445252.parquet   \n",
       "\n",
       "  expert_consensus  patient_id  label   \n",
       "0          Seizure       42516      0  \\\n",
       "1             LRDA        4264      3   \n",
       "2          Seizure       23435      0   \n",
       "3            Other       34554      5   \n",
       "4            Other       10187      5   \n",
       "\n",
       "                                          soft_label  fold   \n",
       "0                     [1.0, 0.0, 0.0, 0.0, 0.0, 0.0]     4  \\\n",
       "1                     [0.0, 0.0, 0.0, 1.0, 0.0, 0.0]     0   \n",
       "2                     [1.0, 0.0, 0.0, 0.0, 0.0, 0.0]     3   \n",
       "3  [0.0, 0.0, 0.35714285714285715, 0.0, 0.0, 0.64...     0   \n",
       "4  [0.0, 0.0, 0.3333333333333333, 0.0, 0.0, 0.666...    -1   \n",
       "\n",
       "                  npy_path  time_length  voter   \n",
       "0  ../Data/train_npy/0.npy          576      3  \\\n",
       "1  ../Data/train_npy/3.npy          562      3   \n",
       "2  ../Data/train_npy/4.npy          666      3   \n",
       "3  ../Data/train_npy/7.npy          556     14   \n",
       "4  ../Data/train_npy/8.npy          693      3   \n",
       "\n",
       "                                         PL_prob_cv0   \n",
       "0  [0.3489752411842346, 0.10252505540847778, 0.03...  \\\n",
       "1  [0.039219897240400314, 0.024717289954423904, 0...   \n",
       "2  [0.2235855609178543, 0.11480796337127686, 0.50...   \n",
       "3  [0.008067328482866287, 0.029164904728531837, 0...   \n",
       "4  [0.06870211660861969, 0.010298708453774452, 0....   \n",
       "\n",
       "                                         PL_prob_cv1   \n",
       "0  [0.4545011520385742, 0.08543295413255692, 0.00...  \\\n",
       "1  [0.03628334030508995, 0.024995330721139908, 0....   \n",
       "2  [0.22932660579681396, 0.04908479005098343, 0.6...   \n",
       "3  [0.0032608057372272015, 0.07425374537706375, 0...   \n",
       "4  [0.00406707264482975, 0.006945385131984949, 0....   \n",
       "\n",
       "                                         PL_prob_cv2   \n",
       "0  [0.35866212844848633, 0.06348183751106262, 0.0...  \\\n",
       "1  [0.021519465371966362, 0.022249963134527206, 0...   \n",
       "2  [0.12347868829965591, 0.033894166350364685, 0....   \n",
       "3  [0.0032928376458585262, 0.17271824181079865, 0...   \n",
       "4  [0.015403089113533497, 0.029696019366383553, 0...   \n",
       "\n",
       "                                         PL_prob_cv3   \n",
       "0  [0.42922917008399963, 0.04415779933333397, 0.0...  \\\n",
       "1  [0.028398025780916214, 0.030236368998885155, 0...   \n",
       "2  [0.08356039226055145, 0.06833972036838531, 0.7...   \n",
       "3  [0.002575099002569914, 0.054019488394260406, 0...   \n",
       "4  [0.09617599099874496, 0.02372109889984131, 0.3...   \n",
       "\n",
       "                                         PL_prob_cv4   \n",
       "0  [0.32202839851379395, 0.1123746782541275, 0.00...  \\\n",
       "1  [0.07453320920467377, 0.04387536272406578, 0.0...   \n",
       "2  [0.12395842373371124, 0.053466178476810455, 0....   \n",
       "3  [0.00583513593301177, 0.15544316172599792, 0.3...   \n",
       "4  [0.021986497566103935, 0.03224774822592735, 0....   \n",
       "\n",
       "                                             PL_prob  \n",
       "0  [0.4263441264629364, 0.058971207588911057, 0.0...  \n",
       "1  [0.05356224253773689, 0.041943296790122986, 0....  \n",
       "2  [0.411081999540329, 0.04547161981463432, 0.428...  \n",
       "3  [0.01853444054722786, 0.08432004600763321, 0.4...  \n",
       "4  [0.0807790607213974, 0.033510494977235794, 0.1...  "
      ]
     },
     "execution_count": 9,
     "metadata": {},
     "output_type": "execute_result"
    }
   ],
   "source": [
    "df= pd.read_csv('../Data/train_npy_PL1.csv')\n",
    "if CFG['finetune']: \n",
    "    df.loc[ (df['voter']<7)&(df['fold']==CFG['fold']), 'fold' ]= -1\n",
    "    df= df[(df['voter']>7) | (df['fold']!=CFG['fold'])]\n",
    "df= df.drop_duplicates(subset=['spectrogram_id'])\n",
    "\n",
    "train_df= df[df['fold']!=CFG['fold']].reset_index(drop=True)\n",
    "valid_df= df[df['fold']==CFG['fold']].reset_index(drop=True)\n",
    "print(f'train dataset: {len(train_df)}')\n",
    "print(f'valid dataset: {len(valid_df)}')\n",
    "\n",
    "train_dataset= Customize_Dataset(train_df, get_train_transform(CFG['img_size']), training=True)\n",
    "valid_dataset= Customize_Dataset(valid_df, get_test_transform(CFG['img_size']), training=False)\n",
    "\n",
    "train_loader= DataLoader(train_dataset, batch_size= CFG['batch_size'], shuffle=True, num_workers=0)\n",
    "valid_loader= DataLoader(valid_dataset, batch_size=1, shuffle=False, num_workers=0)\n",
    "train_df.head()"
   ]
  },
  {
   "cell_type": "raw",
   "id": "8ca01393",
   "metadata": {},
   "source": [
    "import matplotlib.pyplot as plt\n",
    "\n",
    "data= train_dataset[0]\n",
    "img= data['image']\n",
    "label= data['label']\n",
    "print(img.shape)\n",
    "print(label)\n",
    "plt.imshow(img.permute(1,2,0).numpy()[...,0])\n",
    "plt.show()"
   ]
  },
  {
   "cell_type": "markdown",
   "id": "dcd8144c",
   "metadata": {},
   "source": [
    "# Train"
   ]
  },
  {
   "cell_type": "code",
   "execution_count": 10,
   "id": "ce46fc57",
   "metadata": {
    "scrolled": true
   },
   "outputs": [
    {
     "name": "stdout",
     "output_type": "stream",
     "text": [
      "load_model: ./train_model/cv1_best.pth\n",
      "Use EMA: 0.995\n",
      "\n",
      "ep: 1\n"
     ]
    },
    {
     "data": {
      "application/vnd.jupyter.widget-view+json": {
       "model_id": "c04edbb8dc2c49b9aa62d9fd0ba66693",
       "version_major": 2,
       "version_minor": 0
      },
      "text/plain": [
       "  0%|          | 0/652 [00:00<?, ?it/s]"
      ]
     },
     "metadata": {},
     "output_type": "display_data"
    },
    {
     "data": {
      "application/vnd.jupyter.widget-view+json": {
       "model_id": "b31f533e3e1b476b83639447b00d35a0",
       "version_major": 2,
       "version_minor": 0
      },
      "text/plain": [
       "  0%|          | 0/721 [00:00<?, ?it/s]"
      ]
     },
     "metadata": {},
     "output_type": "display_data"
    },
    {
     "name": "stdout",
     "output_type": "stream",
     "text": [
      "accuracy: 0.7628294036061026\n",
      "mean_recall: 0.6460050686372891\n",
      "kl_divergence: 0.30165845822044013\n",
      "train loss: 0.04038\n",
      "valid loss: 0.06896, valid_acc: 0.30166\n",
      "model save at score: 0.30166\n",
      "\n",
      "ep: 2\n"
     ]
    },
    {
     "data": {
      "application/vnd.jupyter.widget-view+json": {
       "model_id": "8ea05f2080c44c2fafcbee61d7c31fad",
       "version_major": 2,
       "version_minor": 0
      },
      "text/plain": [
       "  0%|          | 0/652 [00:00<?, ?it/s]"
      ]
     },
     "metadata": {},
     "output_type": "display_data"
    },
    {
     "data": {
      "application/vnd.jupyter.widget-view+json": {
       "model_id": "98cdf1dc3b144ecc9f64e9dee3624e55",
       "version_major": 2,
       "version_minor": 0
      },
      "text/plain": [
       "  0%|          | 0/721 [00:00<?, ?it/s]"
      ]
     },
     "metadata": {},
     "output_type": "display_data"
    },
    {
     "name": "stdout",
     "output_type": "stream",
     "text": [
      "accuracy: 0.7850208044382802\n",
      "mean_recall: 0.655042271119728\n",
      "kl_divergence: 0.2889690387088194\n",
      "train loss: 0.03627\n",
      "valid loss: 0.06556, valid_acc: 0.28897\n",
      "model save at score: 0.28897\n",
      "\n",
      "ep: 3\n"
     ]
    },
    {
     "data": {
      "application/vnd.jupyter.widget-view+json": {
       "model_id": "85ac8be723cb4f56a46fd3043dee82d3",
       "version_major": 2,
       "version_minor": 0
      },
      "text/plain": [
       "  0%|          | 0/652 [00:00<?, ?it/s]"
      ]
     },
     "metadata": {},
     "output_type": "display_data"
    },
    {
     "data": {
      "application/vnd.jupyter.widget-view+json": {
       "model_id": "de813c3084a7421f9bfc6992fe75e137",
       "version_major": 2,
       "version_minor": 0
      },
      "text/plain": [
       "  0%|          | 0/721 [00:00<?, ?it/s]"
      ]
     },
     "metadata": {},
     "output_type": "display_data"
    },
    {
     "name": "stdout",
     "output_type": "stream",
     "text": [
      "accuracy: 0.7850208044382802\n",
      "mean_recall: 0.6768444546201485\n",
      "kl_divergence: 0.28433378551589106\n",
      "train loss: 0.03442\n",
      "valid loss: 0.06455, valid_acc: 0.28433\n",
      "model save at score: 0.28433\n",
      "\n",
      "ep: 4\n"
     ]
    },
    {
     "data": {
      "application/vnd.jupyter.widget-view+json": {
       "model_id": "7416dafffac04138a8b8325c6d344d8c",
       "version_major": 2,
       "version_minor": 0
      },
      "text/plain": [
       "  0%|          | 0/652 [00:00<?, ?it/s]"
      ]
     },
     "metadata": {},
     "output_type": "display_data"
    },
    {
     "data": {
      "application/vnd.jupyter.widget-view+json": {
       "model_id": "ab602d6b145d446799902c0ef01cb16d",
       "version_major": 2,
       "version_minor": 0
      },
      "text/plain": [
       "  0%|          | 0/721 [00:00<?, ?it/s]"
      ]
     },
     "metadata": {},
     "output_type": "display_data"
    },
    {
     "name": "stdout",
     "output_type": "stream",
     "text": [
      "accuracy: 0.7808599167822469\n",
      "mean_recall: 0.6897965562819276\n",
      "kl_divergence: 0.28007699821104903\n",
      "train loss: 0.03314\n",
      "valid loss: 0.0635, valid_acc: 0.28008\n",
      "model save at score: 0.28008\n",
      "\n",
      "ep: 5\n"
     ]
    },
    {
     "data": {
      "application/vnd.jupyter.widget-view+json": {
       "model_id": "0507fe6a10d34f5cb4a66663a660fb27",
       "version_major": 2,
       "version_minor": 0
      },
      "text/plain": [
       "  0%|          | 0/652 [00:00<?, ?it/s]"
      ]
     },
     "metadata": {},
     "output_type": "display_data"
    },
    {
     "data": {
      "application/vnd.jupyter.widget-view+json": {
       "model_id": "6d7aa5e908ed4cceb8705aeefffa506a",
       "version_major": 2,
       "version_minor": 0
      },
      "text/plain": [
       "  0%|          | 0/721 [00:00<?, ?it/s]"
      ]
     },
     "metadata": {},
     "output_type": "display_data"
    },
    {
     "name": "stdout",
     "output_type": "stream",
     "text": [
      "accuracy: 0.7739251040221914\n",
      "mean_recall: 0.6733944037957542\n",
      "kl_divergence: 0.28844916085762917\n",
      "train loss: 0.03148\n",
      "valid loss: 0.06557, valid_acc: 0.28845\n",
      "\n",
      "ep: 6\n"
     ]
    },
    {
     "data": {
      "application/vnd.jupyter.widget-view+json": {
       "model_id": "1d7b5ffd2f274652a4f91dce68fbefe8",
       "version_major": 2,
       "version_minor": 0
      },
      "text/plain": [
       "  0%|          | 0/652 [00:00<?, ?it/s]"
      ]
     },
     "metadata": {},
     "output_type": "display_data"
    },
    {
     "data": {
      "application/vnd.jupyter.widget-view+json": {
       "model_id": "466e34285309479790370e098b32aa8a",
       "version_major": 2,
       "version_minor": 0
      },
      "text/plain": [
       "  0%|          | 0/721 [00:00<?, ?it/s]"
      ]
     },
     "metadata": {},
     "output_type": "display_data"
    },
    {
     "name": "stdout",
     "output_type": "stream",
     "text": [
      "accuracy: 0.7766990291262136\n",
      "mean_recall: 0.6574551714227258\n",
      "kl_divergence: 0.28264518630375923\n",
      "train loss: 0.03061\n",
      "valid loss: 0.06411, valid_acc: 0.28265\n",
      "\n",
      "ep: 7\n"
     ]
    },
    {
     "data": {
      "application/vnd.jupyter.widget-view+json": {
       "model_id": "7158fa1436cd4a3aaf372073f89c756d",
       "version_major": 2,
       "version_minor": 0
      },
      "text/plain": [
       "  0%|          | 0/652 [00:00<?, ?it/s]"
      ]
     },
     "metadata": {},
     "output_type": "display_data"
    },
    {
     "data": {
      "application/vnd.jupyter.widget-view+json": {
       "model_id": "4e71abadd5ac4a0cae9cba83210fce95",
       "version_major": 2,
       "version_minor": 0
      },
      "text/plain": [
       "  0%|          | 0/721 [00:00<?, ?it/s]"
      ]
     },
     "metadata": {},
     "output_type": "display_data"
    },
    {
     "name": "stdout",
     "output_type": "stream",
     "text": [
      "accuracy: 0.782246879334258\n",
      "mean_recall: 0.6806746329439504\n",
      "kl_divergence: 0.2753605716848419\n",
      "train loss: 0.03041\n",
      "valid loss: 0.0625, valid_acc: 0.27536\n",
      "model save at score: 0.27536\n",
      "\n",
      "ep: 8\n"
     ]
    },
    {
     "data": {
      "application/vnd.jupyter.widget-view+json": {
       "model_id": "818c1a03d25b4b659f34c59db6a487c7",
       "version_major": 2,
       "version_minor": 0
      },
      "text/plain": [
       "  0%|          | 0/652 [00:00<?, ?it/s]"
      ]
     },
     "metadata": {},
     "output_type": "display_data"
    },
    {
     "data": {
      "application/vnd.jupyter.widget-view+json": {
       "model_id": "6f100da21ed44d48bef681f025971a61",
       "version_major": 2,
       "version_minor": 0
      },
      "text/plain": [
       "  0%|          | 0/721 [00:00<?, ?it/s]"
      ]
     },
     "metadata": {},
     "output_type": "display_data"
    },
    {
     "name": "stdout",
     "output_type": "stream",
     "text": [
      "accuracy: 0.7877947295423023\n",
      "mean_recall: 0.6823721352416025\n",
      "kl_divergence: 0.2774261439639997\n",
      "train loss: 0.02862\n",
      "valid loss: 0.06272, valid_acc: 0.27743\n",
      "\n",
      "ep: 9\n"
     ]
    },
    {
     "data": {
      "application/vnd.jupyter.widget-view+json": {
       "model_id": "50efd7282279455e8fac607cc1aeec62",
       "version_major": 2,
       "version_minor": 0
      },
      "text/plain": [
       "  0%|          | 0/652 [00:00<?, ?it/s]"
      ]
     },
     "metadata": {},
     "output_type": "display_data"
    },
    {
     "data": {
      "application/vnd.jupyter.widget-view+json": {
       "model_id": "fc80964008944ab982484721515ff2ca",
       "version_major": 2,
       "version_minor": 0
      },
      "text/plain": [
       "  0%|          | 0/721 [00:00<?, ?it/s]"
      ]
     },
     "metadata": {},
     "output_type": "display_data"
    },
    {
     "name": "stdout",
     "output_type": "stream",
     "text": [
      "accuracy: 0.7697642163661581\n",
      "mean_recall: 0.6636170203265103\n",
      "kl_divergence: 0.27633669165718466\n",
      "train loss: 0.02751\n",
      "valid loss: 0.06264, valid_acc: 0.27634\n",
      "\n",
      "ep: 10\n"
     ]
    },
    {
     "data": {
      "application/vnd.jupyter.widget-view+json": {
       "model_id": "9a3195261b954d918b8708a6e165e601",
       "version_major": 2,
       "version_minor": 0
      },
      "text/plain": [
       "  0%|          | 0/652 [00:00<?, ?it/s]"
      ]
     },
     "metadata": {},
     "output_type": "display_data"
    },
    {
     "data": {
      "application/vnd.jupyter.widget-view+json": {
       "model_id": "1e21cc8eaad34a90a7a3acfc79b3fcae",
       "version_major": 2,
       "version_minor": 0
      },
      "text/plain": [
       "  0%|          | 0/721 [00:00<?, ?it/s]"
      ]
     },
     "metadata": {},
     "output_type": "display_data"
    },
    {
     "name": "stdout",
     "output_type": "stream",
     "text": [
      "accuracy: 0.7864077669902912\n",
      "mean_recall: 0.6836918442272907\n",
      "kl_divergence: 0.2736205153802159\n",
      "train loss: 0.02745\n",
      "valid loss: 0.06198, valid_acc: 0.27362\n",
      "model save at score: 0.27362\n",
      "\n",
      "ep: 11\n"
     ]
    },
    {
     "data": {
      "application/vnd.jupyter.widget-view+json": {
       "model_id": "fa8b97527a1743019dbc8c1caa1a1cb3",
       "version_major": 2,
       "version_minor": 0
      },
      "text/plain": [
       "  0%|          | 0/652 [00:00<?, ?it/s]"
      ]
     },
     "metadata": {},
     "output_type": "display_data"
    },
    {
     "data": {
      "application/vnd.jupyter.widget-view+json": {
       "model_id": "86998dc7f3d54a668a92a4dd86ded1b8",
       "version_major": 2,
       "version_minor": 0
      },
      "text/plain": [
       "  0%|          | 0/721 [00:00<?, ?it/s]"
      ]
     },
     "metadata": {},
     "output_type": "display_data"
    },
    {
     "name": "stdout",
     "output_type": "stream",
     "text": [
      "accuracy: 0.7753120665742025\n",
      "mean_recall: 0.676195103970798\n",
      "kl_divergence: 0.2742026028852993\n",
      "train loss: 0.02645\n",
      "valid loss: 0.06232, valid_acc: 0.2742\n",
      "\n",
      "ep: 12\n"
     ]
    },
    {
     "data": {
      "application/vnd.jupyter.widget-view+json": {
       "model_id": "7c77535195624983805c9e79816a585f",
       "version_major": 2,
       "version_minor": 0
      },
      "text/plain": [
       "  0%|          | 0/652 [00:00<?, ?it/s]"
      ]
     },
     "metadata": {},
     "output_type": "display_data"
    },
    {
     "data": {
      "application/vnd.jupyter.widget-view+json": {
       "model_id": "80700f887aeb425ba53bd3a16e214c33",
       "version_major": 2,
       "version_minor": 0
      },
      "text/plain": [
       "  0%|          | 0/721 [00:00<?, ?it/s]"
      ]
     },
     "metadata": {},
     "output_type": "display_data"
    },
    {
     "name": "stdout",
     "output_type": "stream",
     "text": [
      "accuracy: 0.7850208044382802\n",
      "mean_recall: 0.6742152867762395\n",
      "kl_divergence: 0.26768702593334076\n",
      "train loss: 0.02631\n",
      "valid loss: 0.06061, valid_acc: 0.26769\n",
      "model save at score: 0.26769\n",
      "\n",
      "ep: 13\n"
     ]
    },
    {
     "data": {
      "application/vnd.jupyter.widget-view+json": {
       "model_id": "c20f398956174372b1960cfae56443aa",
       "version_major": 2,
       "version_minor": 0
      },
      "text/plain": [
       "  0%|          | 0/652 [00:00<?, ?it/s]"
      ]
     },
     "metadata": {},
     "output_type": "display_data"
    },
    {
     "data": {
      "application/vnd.jupyter.widget-view+json": {
       "model_id": "96d0a1adeca74addbff3849a73a6b54e",
       "version_major": 2,
       "version_minor": 0
      },
      "text/plain": [
       "  0%|          | 0/721 [00:00<?, ?it/s]"
      ]
     },
     "metadata": {},
     "output_type": "display_data"
    },
    {
     "name": "stdout",
     "output_type": "stream",
     "text": [
      "accuracy: 0.7780859916782247\n",
      "mean_recall: 0.673326326711548\n",
      "kl_divergence: 0.2719498707098494\n",
      "train loss: 0.0256\n",
      "valid loss: 0.06172, valid_acc: 0.27195\n",
      "\n",
      "ep: 14\n"
     ]
    },
    {
     "data": {
      "application/vnd.jupyter.widget-view+json": {
       "model_id": "6cfd48fb8de548f5ac2574f326f7a8c9",
       "version_major": 2,
       "version_minor": 0
      },
      "text/plain": [
       "  0%|          | 0/652 [00:00<?, ?it/s]"
      ]
     },
     "metadata": {},
     "output_type": "display_data"
    },
    {
     "data": {
      "application/vnd.jupyter.widget-view+json": {
       "model_id": "75346a8c386844e19d6dc8cdddc5418b",
       "version_major": 2,
       "version_minor": 0
      },
      "text/plain": [
       "  0%|          | 0/721 [00:00<?, ?it/s]"
      ]
     },
     "metadata": {},
     "output_type": "display_data"
    },
    {
     "name": "stdout",
     "output_type": "stream",
     "text": [
      "accuracy: 0.7739251040221914\n",
      "mean_recall: 0.6803949972882831\n",
      "kl_divergence: 0.26978308832451264\n",
      "train loss: 0.02428\n",
      "valid loss: 0.06124, valid_acc: 0.26978\n",
      "\n",
      "ep: 15\n"
     ]
    },
    {
     "data": {
      "application/vnd.jupyter.widget-view+json": {
       "model_id": "5e2d742811b049ec82877c4a1312cf92",
       "version_major": 2,
       "version_minor": 0
      },
      "text/plain": [
       "  0%|          | 0/652 [00:00<?, ?it/s]"
      ]
     },
     "metadata": {},
     "output_type": "display_data"
    },
    {
     "data": {
      "application/vnd.jupyter.widget-view+json": {
       "model_id": "d097760c931b4d289058c516f6ade0a9",
       "version_major": 2,
       "version_minor": 0
      },
      "text/plain": [
       "  0%|          | 0/721 [00:00<?, ?it/s]"
      ]
     },
     "metadata": {},
     "output_type": "display_data"
    },
    {
     "name": "stdout",
     "output_type": "stream",
     "text": [
      "accuracy: 0.7669902912621359\n",
      "mean_recall: 0.6698135978799895\n",
      "kl_divergence: 0.2691899247944097\n",
      "train loss: 0.02433\n",
      "valid loss: 0.0611, valid_acc: 0.26919\n",
      "\n",
      "ep: 16\n"
     ]
    },
    {
     "data": {
      "application/vnd.jupyter.widget-view+json": {
       "model_id": "40567c9198b24f6b90331fc2f6b181e2",
       "version_major": 2,
       "version_minor": 0
      },
      "text/plain": [
       "  0%|          | 0/652 [00:00<?, ?it/s]"
      ]
     },
     "metadata": {},
     "output_type": "display_data"
    },
    {
     "data": {
      "application/vnd.jupyter.widget-view+json": {
       "model_id": "60e40455eeb74945afccfde849d3a5b7",
       "version_major": 2,
       "version_minor": 0
      },
      "text/plain": [
       "  0%|          | 0/721 [00:00<?, ?it/s]"
      ]
     },
     "metadata": {},
     "output_type": "display_data"
    },
    {
     "name": "stdout",
     "output_type": "stream",
     "text": [
      "accuracy: 0.7794729542302358\n",
      "mean_recall: 0.6923328031683246\n",
      "kl_divergence: 0.2657491799809015\n",
      "train loss: 0.02353\n",
      "valid loss: 0.06043, valid_acc: 0.26575\n",
      "model save at score: 0.26575\n",
      "\n",
      "ep: 17\n"
     ]
    },
    {
     "data": {
      "application/vnd.jupyter.widget-view+json": {
       "model_id": "27b958e570a2424e985317aaaa9e8ef9",
       "version_major": 2,
       "version_minor": 0
      },
      "text/plain": [
       "  0%|          | 0/652 [00:00<?, ?it/s]"
      ]
     },
     "metadata": {},
     "output_type": "display_data"
    },
    {
     "data": {
      "application/vnd.jupyter.widget-view+json": {
       "model_id": "8a2d6517888b4b54b456d20f71ea434e",
       "version_major": 2,
       "version_minor": 0
      },
      "text/plain": [
       "  0%|          | 0/721 [00:00<?, ?it/s]"
      ]
     },
     "metadata": {},
     "output_type": "display_data"
    },
    {
     "name": "stdout",
     "output_type": "stream",
     "text": [
      "accuracy: 0.7739251040221914\n",
      "mean_recall: 0.6700733421991862\n",
      "kl_divergence: 0.26631485845312075\n",
      "train loss: 0.0231\n",
      "valid loss: 0.06062, valid_acc: 0.26631\n",
      "\n",
      "ep: 18\n"
     ]
    },
    {
     "data": {
      "application/vnd.jupyter.widget-view+json": {
       "model_id": "d993c3003a4449178cd7df9660972278",
       "version_major": 2,
       "version_minor": 0
      },
      "text/plain": [
       "  0%|          | 0/652 [00:00<?, ?it/s]"
      ]
     },
     "metadata": {},
     "output_type": "display_data"
    },
    {
     "data": {
      "application/vnd.jupyter.widget-view+json": {
       "model_id": "8e8de407ec63481a8f6654bd44f3b335",
       "version_major": 2,
       "version_minor": 0
      },
      "text/plain": [
       "  0%|          | 0/721 [00:00<?, ?it/s]"
      ]
     },
     "metadata": {},
     "output_type": "display_data"
    },
    {
     "name": "stdout",
     "output_type": "stream",
     "text": [
      "accuracy: 0.7808599167822469\n",
      "mean_recall: 0.6501228594486285\n",
      "kl_divergence: 0.2672289726736259\n",
      "train loss: 0.02287\n",
      "valid loss: 0.06082, valid_acc: 0.26723\n",
      "\n",
      "ep: 19\n"
     ]
    },
    {
     "data": {
      "application/vnd.jupyter.widget-view+json": {
       "model_id": "7f175507124142249d295dcb078164dc",
       "version_major": 2,
       "version_minor": 0
      },
      "text/plain": [
       "  0%|          | 0/652 [00:00<?, ?it/s]"
      ]
     },
     "metadata": {},
     "output_type": "display_data"
    },
    {
     "data": {
      "application/vnd.jupyter.widget-view+json": {
       "model_id": "dda802b1d06541fcbdae9db1c66b6735",
       "version_major": 2,
       "version_minor": 0
      },
      "text/plain": [
       "  0%|          | 0/721 [00:00<?, ?it/s]"
      ]
     },
     "metadata": {},
     "output_type": "display_data"
    },
    {
     "name": "stdout",
     "output_type": "stream",
     "text": [
      "accuracy: 0.7725381414701803\n",
      "mean_recall: 0.6408286527800782\n",
      "kl_divergence: 0.2677640898287163\n",
      "train loss: 0.02248\n",
      "valid loss: 0.06101, valid_acc: 0.26776\n",
      "\n",
      "ep: 20\n"
     ]
    },
    {
     "data": {
      "application/vnd.jupyter.widget-view+json": {
       "model_id": "967769b902cb4a2780a74dcbcd0266af",
       "version_major": 2,
       "version_minor": 0
      },
      "text/plain": [
       "  0%|          | 0/652 [00:00<?, ?it/s]"
      ]
     },
     "metadata": {},
     "output_type": "display_data"
    },
    {
     "data": {
      "application/vnd.jupyter.widget-view+json": {
       "model_id": "18c7f44e7bac41c3bb12a19f949d83b5",
       "version_major": 2,
       "version_minor": 0
      },
      "text/plain": [
       "  0%|          | 0/721 [00:00<?, ?it/s]"
      ]
     },
     "metadata": {},
     "output_type": "display_data"
    },
    {
     "name": "stdout",
     "output_type": "stream",
     "text": [
      "accuracy: 0.7780859916782247\n",
      "mean_recall: 0.6602280034294288\n",
      "kl_divergence: 0.26610458222294553\n",
      "train loss: 0.02252\n",
      "valid loss: 0.06052, valid_acc: 0.2661\n"
     ]
    }
   ],
   "source": [
    "## create model\n",
    "if CFG['load_model']:\n",
    "    print(f\"load_model: {CFG['load_model']}\")\n",
    "    model= torch.load(CFG['load_model'], map_location= 'cuda')\n",
    "else:\n",
    "    model= Slide_Window_Model(CFG['model_name'], CFG['num_classes'])\n",
    "    \n",
    "if CFG['gradient_checkpoint']: \n",
    "    print('use gradient checkpoint')\n",
    "    model.model.set_grad_checkpointing(enable=True)\n",
    "    \n",
    "## EMA\n",
    "model.to('cuda')\n",
    "if CFG['EMA']:\n",
    "    print(f\"Use EMA: {CFG['EMA']}\")\n",
    "    model_ema= ModelEmaV3(model, decay=CFG['EMA'])\n",
    "    model_ema.to('cuda')\n",
    "else:\n",
    "    model_ema= type('model_ema', (object,), {'module':{}})\n",
    "    \n",
    "## hyperparameter\n",
    "criterion= Customize_loss()\n",
    "optimizer= optim.AdamW(model.parameters(), lr= CFG['lr'], weight_decay= CFG['weight_decay'])\n",
    "\n",
    "## start training\n",
    "best_score= 100000\n",
    "for ep in range(1, CFG['epoch']+1):\n",
    "    print(f'\\nep: {ep}')\n",
    "    \n",
    "    if CFG['EMA']: train_loss= train_epoch(train_loader, model, criterion, optimizer, model_ema)\n",
    "    else: \n",
    "        train_loss= train_epoch(train_loader, model, criterion, optimizer, False)\n",
    "        model_ema.module= model\n",
    "    valid_loss, valid_acc= valid_epoch(valid_loader, model_ema.module, criterion)\n",
    "    print(f'train loss: {round(train_loss, 5)}')\n",
    "    print(f'valid loss: {round(valid_loss, 5)}, valid_acc: {round(valid_acc, 5)}')\n",
    "    \n",
    "    if valid_acc <= best_score:\n",
    "        best_score= valid_acc\n",
    "        torch.save(model_ema.module, f\"{CFG['save_model']}/cv{CFG['fold']}_best.pth\")\n",
    "        print(f'model save at score: {round(best_score, 5)}')\n",
    "        \n",
    "        ## save model every epoch\n",
    "#         torch.save(model_ema.module, f\"{CFG['save_model']}/cv{CFG['fold']}_ep{ep}.pth\")"
   ]
  },
  {
   "cell_type": "raw",
   "id": "1280e536",
   "metadata": {},
   "source": [
    "import torch\n",
    "import torch.nn as nn\n",
    "\n",
    "path= 'train_model/cv2_best.pth'\n",
    "\n",
    "example = torch.rand(1, 3, 400, 912)\n",
    "model= torch.load(path).cpu().eval()\n",
    "traced_script_module = torch.jit.trace(model, example)\n",
    "traced_script_module.save(path.replace('pth', 'ts'))"
   ]
  },
  {
   "cell_type": "raw",
   "id": "062a5261",
   "metadata": {},
   "source": []
  }
 ],
 "metadata": {
  "kernelspec": {
   "display_name": "Python 3 (ipykernel)",
   "language": "python",
   "name": "python3"
  },
  "language_info": {
   "codemirror_mode": {
    "name": "ipython",
    "version": 3
   },
   "file_extension": ".py",
   "mimetype": "text/x-python",
   "name": "python",
   "nbconvert_exporter": "python",
   "pygments_lexer": "ipython3",
   "version": "3.9.16"
  }
 },
 "nbformat": 4,
 "nbformat_minor": 5
}
