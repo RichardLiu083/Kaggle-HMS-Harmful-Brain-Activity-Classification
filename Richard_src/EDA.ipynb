{
 "cells": [
  {
   "cell_type": "code",
   "execution_count": 1,
   "id": "15d52177",
   "metadata": {},
   "outputs": [
    {
     "data": {
      "text/html": [
       "<div>\n",
       "<style scoped>\n",
       "    .dataframe tbody tr th:only-of-type {\n",
       "        vertical-align: middle;\n",
       "    }\n",
       "\n",
       "    .dataframe tbody tr th {\n",
       "        vertical-align: top;\n",
       "    }\n",
       "\n",
       "    .dataframe thead th {\n",
       "        text-align: right;\n",
       "    }\n",
       "</style>\n",
       "<table border=\"1\" class=\"dataframe\">\n",
       "  <thead>\n",
       "    <tr style=\"text-align: right;\">\n",
       "      <th></th>\n",
       "      <th>eeg_id</th>\n",
       "      <th>eeg_sub_id</th>\n",
       "      <th>eeg_label_offset_seconds</th>\n",
       "      <th>spectrogram_id</th>\n",
       "      <th>spectrogram_sub_id</th>\n",
       "      <th>spectrogram_label_offset_seconds</th>\n",
       "      <th>label_id</th>\n",
       "      <th>patient_id</th>\n",
       "      <th>expert_consensus</th>\n",
       "      <th>seizure_vote</th>\n",
       "      <th>lpd_vote</th>\n",
       "      <th>gpd_vote</th>\n",
       "      <th>lrda_vote</th>\n",
       "      <th>grda_vote</th>\n",
       "      <th>other_vote</th>\n",
       "      <th>fold</th>\n",
       "      <th>label</th>\n",
       "    </tr>\n",
       "  </thead>\n",
       "  <tbody>\n",
       "    <tr>\n",
       "      <th>0</th>\n",
       "      <td>1628180742</td>\n",
       "      <td>0</td>\n",
       "      <td>0.0</td>\n",
       "      <td>353733</td>\n",
       "      <td>0</td>\n",
       "      <td>0.0</td>\n",
       "      <td>127492639</td>\n",
       "      <td>42516</td>\n",
       "      <td>Seizure</td>\n",
       "      <td>3</td>\n",
       "      <td>0</td>\n",
       "      <td>0</td>\n",
       "      <td>0</td>\n",
       "      <td>0</td>\n",
       "      <td>0</td>\n",
       "      <td>1.0</td>\n",
       "      <td>0.0</td>\n",
       "    </tr>\n",
       "    <tr>\n",
       "      <th>1</th>\n",
       "      <td>1628180742</td>\n",
       "      <td>1</td>\n",
       "      <td>6.0</td>\n",
       "      <td>353733</td>\n",
       "      <td>1</td>\n",
       "      <td>6.0</td>\n",
       "      <td>3887563113</td>\n",
       "      <td>42516</td>\n",
       "      <td>Seizure</td>\n",
       "      <td>3</td>\n",
       "      <td>0</td>\n",
       "      <td>0</td>\n",
       "      <td>0</td>\n",
       "      <td>0</td>\n",
       "      <td>0</td>\n",
       "      <td>1.0</td>\n",
       "      <td>0.0</td>\n",
       "    </tr>\n",
       "    <tr>\n",
       "      <th>2</th>\n",
       "      <td>1628180742</td>\n",
       "      <td>2</td>\n",
       "      <td>8.0</td>\n",
       "      <td>353733</td>\n",
       "      <td>2</td>\n",
       "      <td>8.0</td>\n",
       "      <td>1142670488</td>\n",
       "      <td>42516</td>\n",
       "      <td>Seizure</td>\n",
       "      <td>3</td>\n",
       "      <td>0</td>\n",
       "      <td>0</td>\n",
       "      <td>0</td>\n",
       "      <td>0</td>\n",
       "      <td>0</td>\n",
       "      <td>1.0</td>\n",
       "      <td>0.0</td>\n",
       "    </tr>\n",
       "    <tr>\n",
       "      <th>3</th>\n",
       "      <td>1628180742</td>\n",
       "      <td>3</td>\n",
       "      <td>18.0</td>\n",
       "      <td>353733</td>\n",
       "      <td>3</td>\n",
       "      <td>18.0</td>\n",
       "      <td>2718991173</td>\n",
       "      <td>42516</td>\n",
       "      <td>Seizure</td>\n",
       "      <td>3</td>\n",
       "      <td>0</td>\n",
       "      <td>0</td>\n",
       "      <td>0</td>\n",
       "      <td>0</td>\n",
       "      <td>0</td>\n",
       "      <td>1.0</td>\n",
       "      <td>0.0</td>\n",
       "    </tr>\n",
       "    <tr>\n",
       "      <th>4</th>\n",
       "      <td>1628180742</td>\n",
       "      <td>4</td>\n",
       "      <td>24.0</td>\n",
       "      <td>353733</td>\n",
       "      <td>4</td>\n",
       "      <td>24.0</td>\n",
       "      <td>3080632009</td>\n",
       "      <td>42516</td>\n",
       "      <td>Seizure</td>\n",
       "      <td>3</td>\n",
       "      <td>0</td>\n",
       "      <td>0</td>\n",
       "      <td>0</td>\n",
       "      <td>0</td>\n",
       "      <td>0</td>\n",
       "      <td>1.0</td>\n",
       "      <td>0.0</td>\n",
       "    </tr>\n",
       "    <tr>\n",
       "      <th>...</th>\n",
       "      <td>...</td>\n",
       "      <td>...</td>\n",
       "      <td>...</td>\n",
       "      <td>...</td>\n",
       "      <td>...</td>\n",
       "      <td>...</td>\n",
       "      <td>...</td>\n",
       "      <td>...</td>\n",
       "      <td>...</td>\n",
       "      <td>...</td>\n",
       "      <td>...</td>\n",
       "      <td>...</td>\n",
       "      <td>...</td>\n",
       "      <td>...</td>\n",
       "      <td>...</td>\n",
       "      <td>...</td>\n",
       "      <td>...</td>\n",
       "    </tr>\n",
       "    <tr>\n",
       "      <th>106795</th>\n",
       "      <td>351917269</td>\n",
       "      <td>6</td>\n",
       "      <td>12.0</td>\n",
       "      <td>2147388374</td>\n",
       "      <td>6</td>\n",
       "      <td>12.0</td>\n",
       "      <td>4195677307</td>\n",
       "      <td>10351</td>\n",
       "      <td>LRDA</td>\n",
       "      <td>0</td>\n",
       "      <td>0</td>\n",
       "      <td>0</td>\n",
       "      <td>3</td>\n",
       "      <td>0</td>\n",
       "      <td>0</td>\n",
       "      <td>2.0</td>\n",
       "      <td>2.0</td>\n",
       "    </tr>\n",
       "    <tr>\n",
       "      <th>106796</th>\n",
       "      <td>351917269</td>\n",
       "      <td>7</td>\n",
       "      <td>14.0</td>\n",
       "      <td>2147388374</td>\n",
       "      <td>7</td>\n",
       "      <td>14.0</td>\n",
       "      <td>290896675</td>\n",
       "      <td>10351</td>\n",
       "      <td>LRDA</td>\n",
       "      <td>0</td>\n",
       "      <td>0</td>\n",
       "      <td>0</td>\n",
       "      <td>3</td>\n",
       "      <td>0</td>\n",
       "      <td>0</td>\n",
       "      <td>2.0</td>\n",
       "      <td>2.0</td>\n",
       "    </tr>\n",
       "    <tr>\n",
       "      <th>106797</th>\n",
       "      <td>351917269</td>\n",
       "      <td>8</td>\n",
       "      <td>16.0</td>\n",
       "      <td>2147388374</td>\n",
       "      <td>8</td>\n",
       "      <td>16.0</td>\n",
       "      <td>461435451</td>\n",
       "      <td>10351</td>\n",
       "      <td>LRDA</td>\n",
       "      <td>0</td>\n",
       "      <td>0</td>\n",
       "      <td>0</td>\n",
       "      <td>3</td>\n",
       "      <td>0</td>\n",
       "      <td>0</td>\n",
       "      <td>2.0</td>\n",
       "      <td>2.0</td>\n",
       "    </tr>\n",
       "    <tr>\n",
       "      <th>106798</th>\n",
       "      <td>351917269</td>\n",
       "      <td>9</td>\n",
       "      <td>18.0</td>\n",
       "      <td>2147388374</td>\n",
       "      <td>9</td>\n",
       "      <td>18.0</td>\n",
       "      <td>3786213131</td>\n",
       "      <td>10351</td>\n",
       "      <td>LRDA</td>\n",
       "      <td>0</td>\n",
       "      <td>0</td>\n",
       "      <td>0</td>\n",
       "      <td>3</td>\n",
       "      <td>0</td>\n",
       "      <td>0</td>\n",
       "      <td>2.0</td>\n",
       "      <td>2.0</td>\n",
       "    </tr>\n",
       "    <tr>\n",
       "      <th>106799</th>\n",
       "      <td>351917269</td>\n",
       "      <td>10</td>\n",
       "      <td>20.0</td>\n",
       "      <td>2147388374</td>\n",
       "      <td>10</td>\n",
       "      <td>20.0</td>\n",
       "      <td>3642716176</td>\n",
       "      <td>10351</td>\n",
       "      <td>LRDA</td>\n",
       "      <td>0</td>\n",
       "      <td>0</td>\n",
       "      <td>0</td>\n",
       "      <td>3</td>\n",
       "      <td>0</td>\n",
       "      <td>0</td>\n",
       "      <td>2.0</td>\n",
       "      <td>2.0</td>\n",
       "    </tr>\n",
       "  </tbody>\n",
       "</table>\n",
       "<p>106800 rows × 17 columns</p>\n",
       "</div>"
      ],
      "text/plain": [
       "            eeg_id  eeg_sub_id  eeg_label_offset_seconds  spectrogram_id   \n",
       "0       1628180742           0                       0.0          353733  \\\n",
       "1       1628180742           1                       6.0          353733   \n",
       "2       1628180742           2                       8.0          353733   \n",
       "3       1628180742           3                      18.0          353733   \n",
       "4       1628180742           4                      24.0          353733   \n",
       "...            ...         ...                       ...             ...   \n",
       "106795   351917269           6                      12.0      2147388374   \n",
       "106796   351917269           7                      14.0      2147388374   \n",
       "106797   351917269           8                      16.0      2147388374   \n",
       "106798   351917269           9                      18.0      2147388374   \n",
       "106799   351917269          10                      20.0      2147388374   \n",
       "\n",
       "        spectrogram_sub_id  spectrogram_label_offset_seconds    label_id   \n",
       "0                        0                               0.0   127492639  \\\n",
       "1                        1                               6.0  3887563113   \n",
       "2                        2                               8.0  1142670488   \n",
       "3                        3                              18.0  2718991173   \n",
       "4                        4                              24.0  3080632009   \n",
       "...                    ...                               ...         ...   \n",
       "106795                   6                              12.0  4195677307   \n",
       "106796                   7                              14.0   290896675   \n",
       "106797                   8                              16.0   461435451   \n",
       "106798                   9                              18.0  3786213131   \n",
       "106799                  10                              20.0  3642716176   \n",
       "\n",
       "        patient_id expert_consensus  seizure_vote  lpd_vote  gpd_vote   \n",
       "0            42516          Seizure             3         0         0  \\\n",
       "1            42516          Seizure             3         0         0   \n",
       "2            42516          Seizure             3         0         0   \n",
       "3            42516          Seizure             3         0         0   \n",
       "4            42516          Seizure             3         0         0   \n",
       "...            ...              ...           ...       ...       ...   \n",
       "106795       10351             LRDA             0         0         0   \n",
       "106796       10351             LRDA             0         0         0   \n",
       "106797       10351             LRDA             0         0         0   \n",
       "106798       10351             LRDA             0         0         0   \n",
       "106799       10351             LRDA             0         0         0   \n",
       "\n",
       "        lrda_vote  grda_vote  other_vote  fold  label  \n",
       "0               0          0           0   1.0    0.0  \n",
       "1               0          0           0   1.0    0.0  \n",
       "2               0          0           0   1.0    0.0  \n",
       "3               0          0           0   1.0    0.0  \n",
       "4               0          0           0   1.0    0.0  \n",
       "...           ...        ...         ...   ...    ...  \n",
       "106795          3          0           0   2.0    2.0  \n",
       "106796          3          0           0   2.0    2.0  \n",
       "106797          3          0           0   2.0    2.0  \n",
       "106798          3          0           0   2.0    2.0  \n",
       "106799          3          0           0   2.0    2.0  \n",
       "\n",
       "[106800 rows x 17 columns]"
      ]
     },
     "execution_count": 1,
     "metadata": {},
     "output_type": "execute_result"
    }
   ],
   "source": [
    "import pandas as pd\n",
    "import numpy as np\n",
    "import matplotlib.pyplot as plt\n",
    "\n",
    "df= pd.read_csv('Data/train.csv')\n",
    "df"
   ]
  },
  {
   "cell_type": "code",
   "execution_count": 2,
   "id": "9c5a6f4e",
   "metadata": {},
   "outputs": [
    {
     "data": {
      "text/plain": [
       "<Axes: >"
      ]
     },
     "execution_count": 2,
     "metadata": {},
     "output_type": "execute_result"
    },
    {
     "data": {
      "image/png": "[encoded data removed]",
      "text/plain": [
       "<Figure size 640x480 with 1 Axes>"
      ]
     },
     "metadata": {},
     "output_type": "display_data"
    }
   ],
   "source": [
    "df= df.drop_duplicates(subset=['spectrogram_id']).reset_index(drop=True)\n",
    "df['expert_consensus'].hist()"
   ]
  },
  {
   "cell_type": "code",
   "execution_count": 3,
   "id": "98515f5a",
   "metadata": {},
   "outputs": [
    {
     "data": {
      "text/plain": [
       "(1950,)"
      ]
     },
     "execution_count": 3,
     "metadata": {},
     "output_type": "execute_result"
    }
   ],
   "source": [
    "df['patient_id'].unique().shape"
   ]
  },
  {
   "cell_type": "markdown",
   "id": "81c36b64",
   "metadata": {},
   "source": [
    "# spectrogram time length"
   ]
  },
  {
   "cell_type": "code",
   "execution_count": 4,
   "id": "1c7a36bd",
   "metadata": {},
   "outputs": [
    {
     "data": {
      "application/vnd.jupyter.widget-view+json": {
       "model_id": "0f84943db9194ce7ba6bef6290e44e62",
       "version_major": 2,
       "version_minor": 0
      },
      "text/plain": [
       "  0%|          | 0/11138 [00:00<?, ?it/s]"
      ]
     },
     "metadata": {},
     "output_type": "display_data"
    },
    {
     "data": {
      "text/plain": [
       "(array([1.0993e+04, 1.1500e+02, 1.5000e+01, 5.0000e+00, 5.0000e+00,\n",
       "        2.0000e+00, 1.0000e+00, 1.0000e+00, 0.0000e+00, 1.0000e+00]),\n",
       " array([ 300. , 1181.6, 2063.2, 2944.8, 3826.4, 4708. , 5589.6, 6471.2,\n",
       "        7352.8, 8234.4, 9116. ]),\n",
       " <BarContainer object of 10 artists>)"
      ]
     },
     "execution_count": 4,
     "metadata": {},
     "output_type": "execute_result"
    },
    {
     "data": {
      "image/png": "[encoded data removed]",
      "text/plain": [
       "<Figure size 640x480 with 1 Axes>"
      ]
     },
     "metadata": {},
     "output_type": "display_data"
    }
   ],
   "source": [
    "import glob\n",
    "import pandas as pd\n",
    "from tqdm.auto import tqdm\n",
    "import matplotlib.pyplot as plt\n",
    "\n",
    "paths= glob.glob('./Data/train_spectrograms/**/*parquet', recursive=True)\n",
    "length= []\n",
    "for path in tqdm(paths):\n",
    "    df= pd.read_parquet(path)\n",
    "    length.append(len(df))\n",
    "plt.hist(length)"
   ]
  },
  {
   "cell_type": "code",
   "execution_count": 5,
   "id": "08955df5",
   "metadata": {},
   "outputs": [
    {
     "name": "stdout",
     "output_type": "stream",
     "text": [
      "spectrogram width max:  9116\n",
      "spectrogram width min:  300\n",
      "spectrogram width mean:  384.22571377267013\n",
      "spectrogram width median:  311.0\n",
      "\n",
      "spectrogram width Top 25%:  301.0\n",
      "spectrogram width Top 81%:  400.0\n",
      "spectrogram width Top 875%:  502.0\n",
      "spectrogram width Top 925%:  598.0\n"
     ]
    }
   ],
   "source": [
    "import numpy as np\n",
    "\n",
    "print('spectrogram width max: ', np.max(length))\n",
    "print('spectrogram width min: ',np.min(length))\n",
    "print('spectrogram width mean: ',np.mean(length))\n",
    "print('spectrogram width median: ',np.median(length))\n",
    "print()\n",
    "print('spectrogram width Top 25%: ',np.quantile(length, 0.25))\n",
    "print('spectrogram width Top 81%: ',np.quantile(length, 0.81))\n",
    "print('spectrogram width Top 875%: ',np.quantile(length, 0.875))\n",
    "print('spectrogram width Top 925%: ',np.quantile(length, 0.925))"
   ]
  },
  {
   "cell_type": "markdown",
   "id": "06ca8f11",
   "metadata": {},
   "source": [
    "# eeg time length"
   ]
  },
  {
   "cell_type": "code",
   "execution_count": 1,
   "id": "1605fcd3",
   "metadata": {},
   "outputs": [
    {
     "name": "stderr",
     "output_type": "stream",
     "text": [
      "100%|███████████████████████████████████████████████████████████████████████████| 17300/17300 [01:32<00:00, 186.56it/s]\n"
     ]
    },
    {
     "data": {
      "image/png": "[encoded data removed]",
      "text/plain": [
       "<Figure size 640x480 with 1 Axes>"
      ]
     },
     "metadata": {},
     "output_type": "display_data"
    }
   ],
   "source": [
    "import pandas as pd\n",
    "import numpy as np\n",
    "from tqdm import tqdm\n",
    "import glob\n",
    "import matplotlib.pyplot as plt\n",
    "\n",
    "paths= glob.glob('Data/train_eegs/**/*parquet', recursive=True)\n",
    "length= []\n",
    "for p in tqdm(paths):\n",
    "    raw= pd.read_parquet(p).T\n",
    "    img= np.array(raw)\n",
    "    length.append(img.shape[-1])\n",
    "\n",
    "plt.hist(length)\n",
    "plt.show()"
   ]
  },
  {
   "cell_type": "code",
   "execution_count": 2,
   "id": "49e724a5",
   "metadata": {},
   "outputs": [
    {
     "name": "stdout",
     "output_type": "stream",
     "text": [
      "eeg width max:  684400\n",
      "eeg width min:  10000\n",
      "eeg width mean:  16237.29479768786\n",
      "eeg width median:  11600.0\n",
      "\n",
      "eeg width Top 25%:  10000.0\n",
      "eeg width Top 50%:  11600.0\n",
      "eeg width Top 80%:  19200.0\n",
      "eeg width Top 90%:  26000.0\n"
     ]
    }
   ],
   "source": [
    "import numpy as np\n",
    "\n",
    "print('eeg width max: ', np.max(length))\n",
    "print('eeg width min: ',np.min(length))\n",
    "print('eeg width mean: ',np.mean(length))\n",
    "print('eeg width median: ',np.median(length))\n",
    "print()\n",
    "print('eeg width Top 25%: ',np.quantile(length, 0.25))\n",
    "print('eeg width Top 50%: ',np.quantile(length, 0.50))\n",
    "print('eeg width Top 80%: ',np.quantile(length, 0.8))\n",
    "print('eeg width Top 90%: ',np.quantile(length, 0.90))"
   ]
  },
  {
   "cell_type": "markdown",
   "id": "dd1ad75e",
   "metadata": {},
   "source": [
    "# Voter distribution"
   ]
  },
  {
   "cell_type": "code",
   "execution_count": 5,
   "id": "a845945f",
   "metadata": {},
   "outputs": [
    {
     "data": {
      "text/plain": [
       "<Axes: >"
      ]
     },
     "execution_count": 5,
     "metadata": {},
     "output_type": "execute_result"
    },
    {
     "data": {
      "image/png": "[encoded data removed]",
      "text/plain": [
       "<Figure size 640x480 with 1 Axes>"
      ]
     },
     "metadata": {},
     "output_type": "display_data"
    }
   ],
   "source": [
    "df= pd.read_csv('./Data/train_npy.csv')\n",
    "df= df.drop_duplicates(subset=['spectrogram_id']).reset_index(drop=True)\n",
    "df['voter'].hist()"
   ]
  },
  {
   "cell_type": "code",
   "execution_count": null,
   "id": "1ab1b9f7",
   "metadata": {},
   "outputs": [],
   "source": [
    "max_value= []\n",
    "for i in range(len(df)):\n",
    "    label= np.array(eval(df.loc[i, 'soft_label']))\n",
    "    max_value.append(label.max())\n",
    "max_value= np.array(max_value)\n",
    "plt.hist(max_value)\n",
    "plt.show()"
   ]
  },
  {
   "cell_type": "markdown",
   "id": "cc977ffe",
   "metadata": {},
   "source": [
    "# Mean, STD"
   ]
  },
  {
   "cell_type": "code",
   "execution_count": null,
   "id": "4df74418",
   "metadata": {
    "scrolled": true
   },
   "outputs": [],
   "source": [
    "import pandas as pd\n",
    "import glob\n",
    "import numpy as np\n",
    "from tqdm.auto import tqdm\n",
    "\n",
    "paths= glob.glob('Data/train_spectrograms/**/*parquet',recursive=True)\n",
    "all_mean= []\n",
    "all_std= []\n",
    "for p in tqdm(paths):\n",
    "    df= pd.read_parquet(p).fillna(0).T.iloc[1:]\n",
    "    img= df.values.reshape(-1)\n",
    "    all_mean.append(img.mean())\n",
    "    all_std.append(img.std())\n",
    "    \n",
    "all_mean= np.array(all_mean)\n",
    "all_std= np.array(all_std)\n",
    "print(f'mean: {all_mean.mean()}, std: {all_std.mean()}')"
   ]
  },
  {
   "cell_type": "code",
   "execution_count": 24,
   "id": "71e600c0",
   "metadata": {
    "scrolled": false
   },
   "outputs": [
    {
     "data": {
      "application/vnd.jupyter.widget-view+json": {
       "model_id": "4c943765853346e8afb08971e8ce9400",
       "version_major": 2,
       "version_minor": 0
      },
      "text/plain": [
       "  0%|          | 0/11648 [00:00<?, ?it/s]"
      ]
     },
     "metadata": {},
     "output_type": "display_data"
    },
    {
     "name": "stderr",
     "output_type": "stream",
     "text": [
      "C:\\Users\\User\\AppData\\Local\\Temp\\ipykernel_1716\\2111442631.py:25: MatplotlibDeprecationWarning: Auto-removal of overlapping axes is deprecated since 3.6 and will be removed two minor releases later; explicitly call ax.remove() as needed.\n",
      "  plt.subplot(2,3,j+1)\n"
     ]
    },
    {
     "data": {
      "image/png": "[encoded data removed]",
      "text/plain": [
       "<Figure size 2000x1000 with 6 Axes>"
      ]
     },
     "metadata": {},
     "output_type": "display_data"
    }
   ],
   "source": [
    "import pandas as pd\n",
    "import glob\n",
    "import numpy as np\n",
    "from tqdm.auto import tqdm\n",
    "import matplotlib.pyplot as plt\n",
    "\n",
    "df= pd.read_csv('Data/train_npy.csv')\n",
    "df= df[df['voter']<7].reset_index(drop=True)\n",
    "label={\n",
    "    '0': [],\n",
    "    '1': [],\n",
    "    '2': [],\n",
    "    '3': [],\n",
    "    '4': [],\n",
    "    '5': [],\n",
    "}\n",
    "for i in tqdm(range(len(df))):\n",
    "    sf_label= eval(df.loc[i,'soft_label'])\n",
    "    for j in range(6):\n",
    "        label[str(j)].append(sf_label[j])\n",
    "\n",
    "plt.figure(figsize=(20,10))\n",
    "for j in range(6):\n",
    "    plt.title(f'label:{str(j)}')\n",
    "    plt.subplot(2,3,j+1)\n",
    "    plt.hist(label[str(j)])\n",
    "plt.show()"
   ]
  }
 ],
 "metadata": {
  "kernelspec": {
   "display_name": "Python 3 (ipykernel)",
   "language": "python",
   "name": "python3"
  },
  "language_info": {
   "codemirror_mode": {
    "name": "ipython",
    "version": 3
   },
   "file_extension": ".py",
   "mimetype": "text/x-python",
   "name": "python",
   "nbconvert_exporter": "python",
   "pygments_lexer": "ipython3",
   "version": "3.9.16"
  }
 },
 "nbformat": 4,
 "nbformat_minor": 5
}
